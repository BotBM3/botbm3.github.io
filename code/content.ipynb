{
 "cells": [
  {
   "cell_type": "code",
   "execution_count": 14,
   "metadata": {},
   "outputs": [
    {
     "name": "stdout",
     "output_type": "stream",
     "text": [
      "| 0         | 1         | 2                 |\n",
      "|:----------|:----------|:------------------|\n",
      "| Row0-Col0 | Row0-Col1 | Col2-RowRow0-Col2 |\n",
      "|           |           | Col2-Row          |\n"
     ]
    }
   ],
   "source": [
    "import pandas as pd\n",
    "\n",
    "class MarkDownTable:\n",
    "    def __init__(self, num_rows, num_cols):\n",
    "        # Initialize the table with empty strings\n",
    "        self.table = pd.DataFrame([\"\"] * num_cols).T\n",
    "        \n",
    "        for _ in range(num_rows - 1):\n",
    "            self.table = pd.concat([self.table, pd.DataFrame([\"\"] * num_cols).T], ignore_index=True)\n",
    "            \n",
    "        self.num_rows = num_rows\n",
    "        self.num_cols = num_cols\n",
    "            \n",
    "    def _repr_(self):\n",
    "        return self.table._repr_()\n",
    "    \n",
    "    def _repr_html_(self):\n",
    "        return self.table._repr_html_()\n",
    "\n",
    "    def add_to_row(self, row_index, lambda_func):\n",
    "        # create the new row data to be inserted\n",
    "        new_row_data = [lambda_func(col) for col \n",
    "                        in range(self.num_cols)]\n",
    "        \n",
    "        # Add a new row if row_index is -1 or does not exist\n",
    "        if row_index == -1 or row_index >= len(self.table):\n",
    "            self.table = pd.concat([self.table, pd.DataFrame(new_row_data).T], ignore_index=True)\n",
    "            self.num_rows += 1 # update the number of rows\n",
    "            \n",
    "        else: # modify the row with new data\n",
    "            self.table.loc[row_index] = new_row_data\n",
    "\n",
    "    def add_to_col(self, col_index, lambda_func):\n",
    "        # create the new col data to be inserted\n",
    "        new_row_data = [lambda_func(row) for row \n",
    "                        in range(self.num_rows)]\n",
    "        \n",
    "        # Add a new column if col_index does not exist\n",
    "        if col_index >= len(self.table.columns):\n",
    "            self.table[col_index] = new_row_data\n",
    "            \n",
    "        else: # modify the column with new data\n",
    "            self.table[col_index] = self.table[col_index].apply(lambda_func)\n",
    "\n",
    "    def format_all(self, **kwargs):\n",
    "        # Apply styling to all elements in the table\n",
    "        self.table_styling = self.table.style.set_properties(**kwargs)\n",
    "\n",
    "    def format_row(self, row_index, **kwargs):\n",
    "        # Apply styling to a specific row\n",
    "        self.table_styling = self.table.style.apply(lambda x: kwargs, subset=pd.IndexSlice[row_index, :])\n",
    "\n",
    "    def format_col(self, col_index, **kwargs):\n",
    "        # Apply styling to a specific column\n",
    "        self.table_styling = self.table.style.apply(lambda x: kwargs, axis=0, subset=pd.IndexSlice[:, col_index])\n",
    "\n",
    "    def to_pandas(self):\n",
    "        # Return the table as a pandas DataFrame\n",
    "        return self.table\n",
    "\n",
    "    def to_markdown(self):\n",
    "        # Convert the table to markdown format\n",
    "        return self.table.to_markdown(index=False)\n",
    "\n",
    "\n",
    "def pandas_to_markdown(dataframe, output='markdown'):\n",
    "    if output == 'markdown':\n",
    "        return dataframe.to_markdown(index=False)\n",
    "    elif output == MarkDownTable:\n",
    "        table = MarkDownTable(dataframe.shape[0], dataframe.shape[1])\n",
    "        for row_index in range(dataframe.shape[0]):\n",
    "            for col_index in range(dataframe.shape[1]):\n",
    "                table.table.iloc[row_index, col_index] = dataframe.iloc[row_index, col_index]\n",
    "                \n",
    "        return table # instance of pd.DataFrame or MarkDownTable\n",
    "\n",
    "# Example Usage\n",
    "table = MarkDownTable(2, 3)\n",
    "table.add_to_row(0, lambda col: f\"Row0-Col{col}\")\n",
    "table.add_to_col(2, lambda row: f\"Col2-Row{row}\")\n",
    "print(table.to_markdown())\n",
    "\n",
    "# Convert a pandas DataFrame to markdown\n",
    "df = pd.DataFrame({'A': [1, 2], 'B': [3, 4]})"
   ]
  },
  {
   "cell_type": "code",
   "execution_count": 15,
   "metadata": {},
   "outputs": [
    {
     "data": {
      "text/html": [
       "<div>\n",
       "<style scoped>\n",
       "    .dataframe tbody tr th:only-of-type {\n",
       "        vertical-align: middle;\n",
       "    }\n",
       "\n",
       "    .dataframe tbody tr th {\n",
       "        vertical-align: top;\n",
       "    }\n",
       "\n",
       "    .dataframe thead th {\n",
       "        text-align: right;\n",
       "    }\n",
       "</style>\n",
       "<table border=\"1\" class=\"dataframe\">\n",
       "  <thead>\n",
       "    <tr style=\"text-align: right;\">\n",
       "      <th></th>\n",
       "      <th>0</th>\n",
       "      <th>1</th>\n",
       "      <th>2</th>\n",
       "    </tr>\n",
       "  </thead>\n",
       "  <tbody>\n",
       "    <tr>\n",
       "      <th>0</th>\n",
       "      <td>Row0-Col0</td>\n",
       "      <td>Row0-Col1</td>\n",
       "      <td>Col2-RowRow0-Col2</td>\n",
       "    </tr>\n",
       "    <tr>\n",
       "      <th>1</th>\n",
       "      <td></td>\n",
       "      <td></td>\n",
       "      <td>Col2-Row</td>\n",
       "    </tr>\n",
       "  </tbody>\n",
       "</table>\n",
       "</div>"
      ],
      "text/plain": [
       "<__main__.MarkDownTable at 0x13a385a20>"
      ]
     },
     "execution_count": 15,
     "metadata": {},
     "output_type": "execute_result"
    }
   ],
   "source": [
    "table"
   ]
  },
  {
   "cell_type": "code",
   "execution_count": null,
   "metadata": {},
   "outputs": [],
   "source": []
  }
 ],
 "metadata": {
  "kernelspec": {
   "display_name": "workspace",
   "language": "python",
   "name": "python3"
  },
  "language_info": {
   "codemirror_mode": {
    "name": "ipython",
    "version": 3
   },
   "file_extension": ".py",
   "mimetype": "text/x-python",
   "name": "python",
   "nbconvert_exporter": "python",
   "pygments_lexer": "ipython3",
   "version": "3.10.9"
  }
 },
 "nbformat": 4,
 "nbformat_minor": 2
}
